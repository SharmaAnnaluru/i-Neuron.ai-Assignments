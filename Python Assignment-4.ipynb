{
 "cells": [
  {
   "cell_type": "markdown",
   "metadata": {},
   "source": [
    "## Python Assignment-4"
   ]
  },
  {
   "cell_type": "code",
   "execution_count": 1,
   "metadata": {},
   "outputs": [],
   "source": [
    "# Using Class concept finding the area of a triangle\n",
    "\n",
    "class tri_area:\n",
    "    def __init__(tri,a,b,c,s):\n",
    "        tri.a = a\n",
    "        tri.b = b\n",
    "        tri.c = c\n",
    "        tri.s = s\n",
    "        \n",
    "        \n",
    "    def area(tri):\n",
    "        return ((tri.s*(tri.s-(tri.a))*(tri.s-(tri.b))*(tri.s-(tri.c))) ** 0.5)\n",
    "        "
   ]
  },
  {
   "cell_type": "code",
   "execution_count": 2,
   "metadata": {},
   "outputs": [
    {
     "name": "stdout",
     "output_type": "stream",
     "text": [
      "6.0\n"
     ]
    }
   ],
   "source": [
    "# Checking the code for the output\n",
    "res = tri_area(3,4,5,6)\n",
    "\n",
    "print(res.area())"
   ]
  },
  {
   "cell_type": "code",
   "execution_count": 3,
   "metadata": {},
   "outputs": [],
   "source": [
    "# Using a user defined function to filter long words\n",
    "\n",
    "res = []\n",
    "def filter_long_words(lst,n):\n",
    "    for i in lst:\n",
    "        if len(i)> n:\n",
    "            res.append(i)\n",
    "        else:\n",
    "            False\n",
    "    return res\n",
    "            "
   ]
  },
  {
   "cell_type": "code",
   "execution_count": 4,
   "metadata": {},
   "outputs": [
    {
     "data": {
      "text/plain": [
       "['UnitedStates', 'Australia', 'UnitedKingdom', 'SouthAfrica', 'Pakistan']"
      ]
     },
     "execution_count": 4,
     "metadata": {},
     "output_type": "execute_result"
    }
   ],
   "source": [
    "# Checking the code for the output\n",
    "\n",
    "lst = ['UnitedStates', 'India', 'China', 'Australia', 'UnitedKingdom','Japan', 'SouthAfrica', 'Pakistan']\n",
    "\n",
    "filter_long_words(lst,6)"
   ]
  },
  {
   "cell_type": "code",
   "execution_count": 5,
   "metadata": {},
   "outputs": [],
   "source": [
    "# Code for printing the lenght of strings in a list as output\n",
    "\n",
    "res_val = []\n",
    "def str_to_int(lst):\n",
    "    for i in lst:\n",
    "        res_val.append(len(i))\n",
    "    return res_val"
   ]
  },
  {
   "cell_type": "code",
   "execution_count": 6,
   "metadata": {},
   "outputs": [
    {
     "data": {
      "text/plain": [
       "[12, 5, 5, 9, 13, 5, 11, 8]"
      ]
     },
     "execution_count": 6,
     "metadata": {},
     "output_type": "execute_result"
    }
   ],
   "source": [
    "# Checking the code for the output\n",
    "\n",
    "lst = ['UnitedStates', 'India', 'China', 'Australia', 'UnitedKingdom','Japan', 'SouthAfrica', 'Pakistan']\n",
    "\n",
    "str_to_int(lst)"
   ]
  },
  {
   "cell_type": "code",
   "execution_count": 7,
   "metadata": {},
   "outputs": [],
   "source": [
    "# Finally checking th character is a vowel or not\n",
    "\n",
    "vowels = ['a', 'e', 'i', 'o', 'u']\n",
    "\n",
    "def check_char(c):\n",
    "    if c in vowels:\n",
    "        print(True)\n",
    "    else:\n",
    "        print(False)\n",
    "    \n",
    "    "
   ]
  },
  {
   "cell_type": "code",
   "execution_count": 8,
   "metadata": {},
   "outputs": [
    {
     "name": "stdout",
     "output_type": "stream",
     "text": [
      "True\n"
     ]
    }
   ],
   "source": [
    "check_char('a')"
   ]
  },
  {
   "cell_type": "code",
   "execution_count": 9,
   "metadata": {},
   "outputs": [
    {
     "name": "stdout",
     "output_type": "stream",
     "text": [
      "False\n"
     ]
    }
   ],
   "source": [
    "check_char('w')"
   ]
  },
  {
   "cell_type": "code",
   "execution_count": 10,
   "metadata": {},
   "outputs": [
    {
     "name": "stdout",
     "output_type": "stream",
     "text": [
      "False\n"
     ]
    }
   ],
   "source": [
    "check_char('x')"
   ]
  },
  {
   "cell_type": "code",
   "execution_count": 11,
   "metadata": {},
   "outputs": [
    {
     "name": "stdout",
     "output_type": "stream",
     "text": [
      "True\n"
     ]
    }
   ],
   "source": [
    "check_char('i')"
   ]
  }
 ],
 "metadata": {
  "kernelspec": {
   "display_name": "Python 3",
   "language": "python",
   "name": "python3"
  },
  "language_info": {
   "codemirror_mode": {
    "name": "ipython",
    "version": 3
   },
   "file_extension": ".py",
   "mimetype": "text/x-python",
   "name": "python",
   "nbconvert_exporter": "python",
   "pygments_lexer": "ipython3",
   "version": "3.8.3"
  }
 },
 "nbformat": 4,
 "nbformat_minor": 4
}
