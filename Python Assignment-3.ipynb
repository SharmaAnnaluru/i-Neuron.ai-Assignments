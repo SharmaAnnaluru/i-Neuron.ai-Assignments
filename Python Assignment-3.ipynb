{
 "cells": [
  {
   "cell_type": "markdown",
   "metadata": {},
   "source": [
    "## Python Assignment-3"
   ]
  },
  {
   "cell_type": "code",
   "execution_count": 1,
   "metadata": {},
   "outputs": [],
   "source": [
    "# Code for my own reduce function.\n",
    "def my_reduce(func, lst):\n",
    "    res_val = lst[0]\n",
    "    for x in lst[1:]:\n",
    "        res_val = func(res_val, x)\n",
    "    return res_val"
   ]
  },
  {
   "cell_type": "code",
   "execution_count": 2,
   "metadata": {},
   "outputs": [],
   "source": [
    "# Considering a power function to be used in the my_reduce function\n",
    "def func(x,y):\n",
    "    return x**y"
   ]
  },
  {
   "cell_type": "code",
   "execution_count": 3,
   "metadata": {},
   "outputs": [
    {
     "data": {
      "text/plain": [
       "285311670611"
      ]
     },
     "execution_count": 3,
     "metadata": {},
     "output_type": "execute_result"
    }
   ],
   "source": [
    "# Considering an example to illustrate\n",
    "lst = [11,11]\n",
    "my_reduce(func,lst)"
   ]
  },
  {
   "cell_type": "code",
   "execution_count": 4,
   "metadata": {},
   "outputs": [],
   "source": [
    "# Code for user deffined filter function\n",
    "def my_filter(func,lst1):\n",
    "    res=[]\n",
    "    for var in lst1 :\n",
    "        if func(var):\n",
    "            res.append(var)\n",
    "    return res"
   ]
  },
  {
   "cell_type": "code",
   "execution_count": 5,
   "metadata": {},
   "outputs": [],
   "source": [
    "# Lets define a sample function to use in my filter\n",
    "def is_even(item):\n",
    "    if item%2==0 :\n",
    "        return True\n",
    "    else :\n",
    "        return False"
   ]
  },
  {
   "cell_type": "code",
   "execution_count": 6,
   "metadata": {},
   "outputs": [
    {
     "data": {
      "text/plain": [
       "[18, 44, 36]"
      ]
     },
     "execution_count": 6,
     "metadata": {},
     "output_type": "execute_result"
    }
   ],
   "source": [
    "lst1 = [11,15,18,99,44,36,25,75]\n",
    "my_filter(is_even , lst1)"
   ]
  },
  {
   "cell_type": "markdown",
   "metadata": {},
   "source": [
    "#### Printing the lists given in the assignment using List Comprehension "
   ]
  },
  {
   "cell_type": "code",
   "execution_count": 7,
   "metadata": {},
   "outputs": [
    {
     "name": "stdout",
     "output_type": "stream",
     "text": [
      "[' x', ' xx', ' xxx', ' xxxx', ' y', ' yy', ' yyy', ' yyyy', ' z', ' zz', ' zzz', ' zzzz']\n",
      "[' x', ' y', ' z', ' xx', ' yy', ' zz', ' xxx', ' yyy', ' zzz', ' xxxx', ' yyyy', ' zzzz']\n"
     ]
    }
   ],
   "source": [
    "# Executed this(first and second lists) using for loop and figured the list comprehension\n",
    "\n",
    "from string import ascii_lowercase\n",
    "mylist = []\n",
    "for c in ascii_lowercase[23:26]:\n",
    "    char = ' '\n",
    "    for i in range(4):\n",
    "        char = char + c\n",
    "        mylist.append(char)\n",
    "print(mylist)\n",
    "\n",
    "\n",
    "mylist.sort(key = len)\n",
    "print(mylist)\n",
    "              "
   ]
  },
  {
   "cell_type": "code",
   "execution_count": 8,
   "metadata": {},
   "outputs": [
    {
     "data": {
      "text/plain": [
       "['x', 'xx', 'xxx', 'xxxx', 'y', 'yy', 'yyy', 'yyyy', 'z', 'zz', 'zzz', 'zzzz']"
      ]
     },
     "execution_count": 8,
     "metadata": {},
     "output_type": "execute_result"
    }
   ],
   "source": [
    "# First List\n",
    "l1 = ['x', 'y', 'z']\n",
    "lst2 = [i*j for j in l1 for i in range(1, 5)]\n",
    "\n",
    "lst2"
   ]
  },
  {
   "cell_type": "code",
   "execution_count": 9,
   "metadata": {},
   "outputs": [
    {
     "data": {
      "text/plain": [
       "['x', 'y', 'z', 'xx', 'yy', 'zz', 'xxx', 'yyy', 'zzz', 'xxxx', 'yyyy', 'zzzz']"
      ]
     },
     "execution_count": 9,
     "metadata": {},
     "output_type": "execute_result"
    }
   ],
   "source": [
    "# Second List\n",
    "lst3 = [i*j for j in range(1, 5) for i in l1]\n",
    "\n",
    "lst3"
   ]
  },
  {
   "cell_type": "code",
   "execution_count": 10,
   "metadata": {},
   "outputs": [
    {
     "data": {
      "text/plain": [
       "[[2], [3], [4], [3], [4], [5], [4], [5], [6]]"
      ]
     },
     "execution_count": 10,
     "metadata": {},
     "output_type": "execute_result"
    }
   ],
   "source": [
    "# Third List\n",
    "\n",
    "lst4 = [[r] for i in range(3) for r in range(i+2, i+5)]\n",
    "lst4"
   ]
  },
  {
   "cell_type": "code",
   "execution_count": 11,
   "metadata": {},
   "outputs": [
    {
     "data": {
      "text/plain": [
       "[[2, 3, 4, 5], [3, 4, 5, 6], [4, 5, 6, 7], [5, 6, 7, 8]]"
      ]
     },
     "execution_count": 11,
     "metadata": {},
     "output_type": "execute_result"
    }
   ],
   "source": [
    "# Fourth List\n",
    "\n",
    "lst5 = [[x+y for y in range(2, 6)] for x in range(4)]\n",
    "lst5"
   ]
  },
  {
   "cell_type": "code",
   "execution_count": 12,
   "metadata": {},
   "outputs": [
    {
     "data": {
      "text/plain": [
       "[(1, 1), (2, 1), (3, 1), (1, 2), (2, 2), (3, 2), (1, 3), (2, 3), (3, 3)]"
      ]
     },
     "execution_count": 12,
     "metadata": {},
     "output_type": "execute_result"
    }
   ],
   "source": [
    "# Fiffth List\n",
    "\n",
    "lst6 = [(a, b) for b in range(1, 4) for a in range(1, 4)]\n",
    "lst6"
   ]
  }
 ],
 "metadata": {
  "kernelspec": {
   "display_name": "Python 3",
   "language": "python",
   "name": "python3"
  },
  "language_info": {
   "codemirror_mode": {
    "name": "ipython",
    "version": 3
   },
   "file_extension": ".py",
   "mimetype": "text/x-python",
   "name": "python",
   "nbconvert_exporter": "python",
   "pygments_lexer": "ipython3",
   "version": "3.8.3"
  }
 },
 "nbformat": 4,
 "nbformat_minor": 4
}
