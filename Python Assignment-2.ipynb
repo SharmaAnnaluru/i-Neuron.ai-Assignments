{
 "cells": [
  {
   "cell_type": "markdown",
   "metadata": {},
   "source": [
    "## Python Assignment-2"
   ]
  },
  {
   "cell_type": "code",
   "execution_count": 1,
   "metadata": {},
   "outputs": [
    {
     "name": "stdout",
     "output_type": "stream",
     "text": [
      "*  \n",
      "** \n",
      "*** \n",
      "**** \n",
      "***** \n",
      "****  \n",
      "***   \n",
      "**    \n",
      "*     \n",
      "This for loop has been executed perfectly\n"
     ]
    }
   ],
   "source": [
    "# Code for printing the design using for loop!\n",
    "\n",
    "line = \"*\"\n",
    "space = \" \"\n",
    "\n",
    "for i in list(range(0,4)):\n",
    "    print(line, space)\n",
    "    line = line+\"*\"\n",
    "    space = space[:-1]\n",
    "    \n",
    "for i in list(range(0,5)):\n",
    "    print(line, space)\n",
    "    line= line[:-1]\n",
    "    space= space + \" \"\n",
    "else:\n",
    "    print(\"This for loop has been executed perfectly\")\n",
    "    "
   ]
  },
  {
   "cell_type": "code",
   "execution_count": 2,
   "metadata": {},
   "outputs": [
    {
     "name": "stdout",
     "output_type": "stream",
     "text": [
      "Provide your name please :ineuron\n",
      "norueni\n"
     ]
    }
   ],
   "source": [
    "# Code for taking a name as input and reversing it!\n",
    "name= input(\"Provide your name please :\")\n",
    "print(name[::-1])"
   ]
  }
 ],
 "metadata": {
  "kernelspec": {
   "display_name": "Python 3",
   "language": "python",
   "name": "python3"
  },
  "language_info": {
   "codemirror_mode": {
    "name": "ipython",
    "version": 3
   },
   "file_extension": ".py",
   "mimetype": "text/x-python",
   "name": "python",
   "nbconvert_exporter": "python",
   "pygments_lexer": "ipython3",
   "version": "3.8.3"
  }
 },
 "nbformat": 4,
 "nbformat_minor": 4
}
